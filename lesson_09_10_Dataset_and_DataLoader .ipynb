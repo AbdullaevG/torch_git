{
 "cells": [
  {
   "cell_type": "code",
   "execution_count": 1,
   "id": "36fe67b6",
   "metadata": {},
   "outputs": [],
   "source": [
    "import torch\n",
    "import torch.nn as nn\n",
    "import torchvision\n",
    "from torch.utils.data import DataLoader, Dataset\n",
    "import numpy as np\n",
    "import math\n",
    "\n",
    "import matplotlib.pyplot as plt"
   ]
  },
  {
   "cell_type": "code",
   "execution_count": 2,
   "id": "951837e2",
   "metadata": {},
   "outputs": [],
   "source": [
    "class Wine_dataset(Dataset):\n",
    "    \n",
    "    def __init__(self):\n",
    "        # data loading\n",
    "        xy = np.loadtxt(\"data/wine.csv\", delimiter=\",\", skiprows=1)\n",
    "        self.x = torch.from_numpy(xy[:, 1:].astype(np.float32))\n",
    "        self.y = torch.from_numpy(xy[:, 0].astype(np.float32))\n",
    "        self.n_samples = xy.shape[0] \n",
    "    \n",
    "    def __getitem__(self, index):\n",
    "        return self.x[index], self.y[index]\n",
    "    \n",
    "    def __len__(self):\n",
    "        return self.n_samples"
   ]
  },
  {
   "cell_type": "code",
   "execution_count": 3,
   "id": "2f2d1e57",
   "metadata": {},
   "outputs": [
    {
     "name": "stdout",
     "output_type": "stream",
     "text": [
      "tensor([1.4230e+01, 1.7100e+00, 2.4300e+00, 1.5600e+01, 1.2700e+02, 2.8000e+00,\n",
      "        3.0600e+00, 2.8000e-01, 2.2900e+00, 5.6400e+00, 1.0400e+00, 3.9200e+00,\n",
      "        1.0650e+03])\n",
      "tensor(1.)\n"
     ]
    }
   ],
   "source": [
    "dataset = Wine_dataset()\n",
    "first_data = dataset[0]\n",
    "features, label = first_data\n",
    "\n",
    "\n",
    "print(features)\n",
    "print(label)"
   ]
  },
  {
   "cell_type": "code",
   "execution_count": 4,
   "id": "99b34d4b",
   "metadata": {},
   "outputs": [
    {
     "name": "stdout",
     "output_type": "stream",
     "text": [
      "torch.Size([4, 13]) torch.Size([4])\n"
     ]
    }
   ],
   "source": [
    "dataloader = DataLoader(dataset = dataset, batch_size = 4, shuffle = True)\n",
    "dataiter = iter(dataloader)\n",
    "batch = dataiter.next()\n",
    "\n",
    "features, labels = batch\n",
    "print(features.shape, labels.shape)"
   ]
  },
  {
   "cell_type": "code",
   "execution_count": 5,
   "id": "f366a5f3",
   "metadata": {},
   "outputs": [
    {
     "name": "stdout",
     "output_type": "stream",
     "text": [
      "45\n"
     ]
    }
   ],
   "source": [
    "num_epochs = 2\n",
    "batch_size = 4\n",
    "total_samples = len(dataset)\n",
    "n_iter = math.ceil(total_samples / batch_size)\n",
    "print(n_iter)"
   ]
  },
  {
   "cell_type": "code",
   "execution_count": 6,
   "id": "76a9715a",
   "metadata": {},
   "outputs": [
    {
     "name": "stdout",
     "output_type": "stream",
     "text": [
      "epoch 1/2, step = 5/45, inputs_shape = torch.Size([4, 13])\n",
      "epoch 1/2, step = 10/45, inputs_shape = torch.Size([4, 13])\n",
      "epoch 1/2, step = 15/45, inputs_shape = torch.Size([4, 13])\n",
      "epoch 1/2, step = 20/45, inputs_shape = torch.Size([4, 13])\n",
      "epoch 1/2, step = 25/45, inputs_shape = torch.Size([4, 13])\n",
      "epoch 1/2, step = 30/45, inputs_shape = torch.Size([4, 13])\n",
      "epoch 1/2, step = 35/45, inputs_shape = torch.Size([4, 13])\n",
      "epoch 1/2, step = 40/45, inputs_shape = torch.Size([4, 13])\n",
      "epoch 1/2, step = 45/45, inputs_shape = torch.Size([2, 13])\n",
      "epoch 2/2, step = 5/45, inputs_shape = torch.Size([4, 13])\n",
      "epoch 2/2, step = 10/45, inputs_shape = torch.Size([4, 13])\n",
      "epoch 2/2, step = 15/45, inputs_shape = torch.Size([4, 13])\n",
      "epoch 2/2, step = 20/45, inputs_shape = torch.Size([4, 13])\n",
      "epoch 2/2, step = 25/45, inputs_shape = torch.Size([4, 13])\n",
      "epoch 2/2, step = 30/45, inputs_shape = torch.Size([4, 13])\n",
      "epoch 2/2, step = 35/45, inputs_shape = torch.Size([4, 13])\n",
      "epoch 2/2, step = 40/45, inputs_shape = torch.Size([4, 13])\n",
      "epoch 2/2, step = 45/45, inputs_shape = torch.Size([2, 13])\n"
     ]
    }
   ],
   "source": [
    "for epoch in range(num_epochs):\n",
    "    for i, (features, label) in enumerate(dataloader):\n",
    "        if (i+1)%5 == 0:\n",
    "            print(f\"epoch {epoch+1}/{num_epochs}, step = {i+1}/{n_iter}, inputs_shape = {features.shape}\")"
   ]
  },
  {
   "cell_type": "code",
   "execution_count": null,
   "id": "cfdba3d1",
   "metadata": {},
   "outputs": [],
   "source": []
  },
  {
   "cell_type": "markdown",
   "id": "d480d514",
   "metadata": {},
   "source": [
    "## Dataset Transforms"
   ]
  },
  {
   "cell_type": "code",
   "execution_count": 7,
   "id": "2ebfa23e",
   "metadata": {},
   "outputs": [],
   "source": [
    "class Wine_dataset(Dataset):\n",
    "    \n",
    "    def __init__(self, transform = None):\n",
    "        # data loading\n",
    "        xy = np.loadtxt(\"data/wine.csv\", delimiter=\",\", skiprows=1)\n",
    "        self.x = torch.from_numpy(xy[:, 1:].astype(np.float32))\n",
    "        self.y = torch.from_numpy(xy[:, 0].astype(np.float32))\n",
    "        self.n_samples = xy.shape[0] \n",
    "        self.transform = transform\n",
    "        \n",
    "    def __getitem__(self, index):\n",
    "        sample = self.x[index], self.y[index]\n",
    "        \n",
    "        if self.transform:\n",
    "            sample = self.transform(sample)\n",
    "        \n",
    "        return sample\n",
    "    \n",
    "    def __len__(self):\n",
    "        return self.n_samples"
   ]
  },
  {
   "cell_type": "code",
   "execution_count": 8,
   "id": "24b9db76",
   "metadata": {},
   "outputs": [
    {
     "data": {
      "text/plain": [
       "True"
      ]
     },
     "execution_count": 8,
     "metadata": {},
     "output_type": "execute_result"
    }
   ],
   "source": [
    "tarr = torch.tensor([1])\n",
    "type(tarr) == torch.Tensor"
   ]
  },
  {
   "cell_type": "code",
   "execution_count": 9,
   "id": "95a54377",
   "metadata": {},
   "outputs": [
    {
     "data": {
      "text/plain": [
       "torch.Tensor"
      ]
     },
     "execution_count": 9,
     "metadata": {},
     "output_type": "execute_result"
    }
   ],
   "source": [
    "type(torch.tensor([1]))"
   ]
  },
  {
   "cell_type": "code",
   "execution_count": 10,
   "id": "7293f606",
   "metadata": {},
   "outputs": [],
   "source": [
    "class ToTensor:\n",
    "    def __call__(self, sample):\n",
    "        inputs, labels = sample\n",
    "        \n",
    "        if type(inputs) == torch.Tensor:\n",
    "            return inputs, labels\n",
    "        return torch.from_numpy(inputs), torch.from_numpy(labels)"
   ]
  },
  {
   "cell_type": "code",
   "execution_count": 11,
   "id": "3cb10f9b",
   "metadata": {},
   "outputs": [
    {
     "name": "stdout",
     "output_type": "stream",
     "text": [
      "tensor([1.4230e+01, 1.7100e+00, 2.4300e+00, 1.5600e+01, 1.2700e+02, 2.8000e+00,\n",
      "        3.0600e+00, 2.8000e-01, 2.2900e+00, 5.6400e+00, 1.0400e+00, 3.9200e+00,\n",
      "        1.0650e+03])\n",
      "tensor(1.)\n"
     ]
    }
   ],
   "source": [
    "datatset = Wine_dataset(transform = ToTensor())\n",
    "first_data = dataset[0]\n",
    "features, label = first_data\n",
    "\n",
    "print(features)\n",
    "print(label)"
   ]
  },
  {
   "cell_type": "code",
   "execution_count": 12,
   "id": "d4d89eea",
   "metadata": {},
   "outputs": [],
   "source": [
    "class MylTransform:\n",
    "    \n",
    "    def __init__(self, factor):\n",
    "        self.factor = factor\n",
    "        \n",
    "    def __call__(self, sample):\n",
    "        features, labels = sample\n",
    "        features *= self.factor\n",
    "        \n",
    "        return features, labels"
   ]
  },
  {
   "cell_type": "code",
   "execution_count": 13,
   "id": "cfa8b4ae",
   "metadata": {},
   "outputs": [],
   "source": [
    "composed = torchvision.transforms.Compose([MylTransform(2), ToTensor()])\n",
    "dataset_1 = Wine_dataset(transform = composed)"
   ]
  },
  {
   "cell_type": "code",
   "execution_count": 14,
   "id": "f70e43bf",
   "metadata": {},
   "outputs": [
    {
     "name": "stdout",
     "output_type": "stream",
     "text": [
      "tensor([2.8460e+01, 3.4200e+00, 4.8600e+00, 3.1200e+01, 2.5400e+02, 5.6000e+00,\n",
      "        6.1200e+00, 5.6000e-01, 4.5800e+00, 1.1280e+01, 2.0800e+00, 7.8400e+00,\n",
      "        2.1300e+03])\n",
      "tensor(1.)\n"
     ]
    }
   ],
   "source": [
    "first_data = dataset_1[0]\n",
    "features, label = first_data\n",
    "\n",
    "print(features)\n",
    "print(label)"
   ]
  },
  {
   "cell_type": "code",
   "execution_count": null,
   "id": "cfac0925",
   "metadata": {},
   "outputs": [],
   "source": []
  }
 ],
 "metadata": {
  "kernelspec": {
   "display_name": "Python 3",
   "language": "python",
   "name": "python3"
  },
  "language_info": {
   "codemirror_mode": {
    "name": "ipython",
    "version": 3
   },
   "file_extension": ".py",
   "mimetype": "text/x-python",
   "name": "python",
   "nbconvert_exporter": "python",
   "pygments_lexer": "ipython3",
   "version": "3.8.5"
  }
 },
 "nbformat": 4,
 "nbformat_minor": 5
}
