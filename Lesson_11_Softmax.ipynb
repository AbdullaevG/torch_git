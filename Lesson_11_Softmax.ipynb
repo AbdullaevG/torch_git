{
 "cells": [
  {
   "cell_type": "code",
   "execution_count": 41,
   "id": "a571929b",
   "metadata": {},
   "outputs": [],
   "source": [
    "import torch\n",
    "import torch.nn as nn\n",
    "import torchvision\n",
    "import torchvision.transforms as transforms\n",
    "from torch.utils.data import DataLoader, Dataset\n",
    "import numpy as np\n",
    "import math\n",
    "\n",
    "import matplotlib.pyplot as plt"
   ]
  },
  {
   "cell_type": "code",
   "execution_count": null,
   "id": "2d8c1d95",
   "metadata": {},
   "outputs": [],
   "source": []
  },
  {
   "cell_type": "code",
   "execution_count": 19,
   "id": "54349034",
   "metadata": {},
   "outputs": [],
   "source": [
    "def softmax_np(arr):\n",
    "    \n",
    "    return np.exp(arr)/np.sum(np.exp(arr))\n",
    "\n",
    "arr = np.array([2., 1., 3., 7.])\n",
    "sm_np = softmax_np(arr)"
   ]
  },
  {
   "cell_type": "code",
   "execution_count": 20,
   "id": "f53fc214",
   "metadata": {},
   "outputs": [
    {
     "data": {
      "image/png": "[encoded data removed]",
      "text/plain": [
       "<Figure size 432x288 with 2 Axes>"
      ]
     },
     "metadata": {
      "needs_background": "light"
     },
     "output_type": "display_data"
    }
   ],
   "source": [
    "fig, ax = plt.subplots(1, 2)\n",
    "ax[0].bar(range(4), arr)\n",
    "ax[1].bar(range(4), sm_np)\n",
    "plt.tight_layout()\n",
    "plt.show()"
   ]
  },
  {
   "cell_type": "code",
   "execution_count": 23,
   "id": "cb2a45b6",
   "metadata": {},
   "outputs": [
    {
     "data": {
      "text/plain": [
       "tensor([0.0066, 0.0024, 0.0178, 0.9732])"
      ]
     },
     "execution_count": 23,
     "metadata": {},
     "output_type": "execute_result"
    }
   ],
   "source": [
    "x = torch.tensor([2., 1., 3., 7.])\n",
    "torch.softmax(x, dim = 0)"
   ]
  },
  {
   "cell_type": "code",
   "execution_count": 30,
   "id": "efe1e8d0",
   "metadata": {},
   "outputs": [],
   "source": [
    "def cross_entr_np(target, y_probs):\n",
    "    N = arr.shape[0]\n",
    "    \n",
    "    return -np.sum(target * np.log(y_probs))/N"
   ]
  },
  {
   "cell_type": "code",
   "execution_count": 35,
   "id": "ec4ea4d2",
   "metadata": {},
   "outputs": [
    {
     "name": "stdout",
     "output_type": "stream",
     "text": [
      "loss for good_probs: 0.056\n",
      "loss for bad_probs:  0.576\n"
     ]
    }
   ],
   "source": [
    "y = np.array([1., 0., 0.])\n",
    "good_probs = np.array([0.8, 0.1, 0.1])\n",
    "bad_probs = np.array([0.1, 0.5, 0.4])\n",
    "\n",
    "print(f\"loss for good_probs: {cross_entr_np(y, good_probs):.3f}\")\n",
    "print(f\"loss for bad_probs:  {cross_entr_np(y, bad_probs):.3f}\")"
   ]
  },
  {
   "cell_type": "markdown",
   "id": "f0713485",
   "metadata": {},
   "source": [
    "**In torch** there is no One Hot Encoding"
   ]
  },
  {
   "cell_type": "code",
   "execution_count": 38,
   "id": "c928fc49",
   "metadata": {},
   "outputs": [
    {
     "name": "stdout",
     "output_type": "stream",
     "text": [
      "loss for good_probs: 0.690\n",
      "loss for bad_probs:  1.346\n"
     ]
    }
   ],
   "source": [
    "loss = nn.CrossEntropyLoss()\n",
    "\n",
    "y = torch.tensor([0])\n",
    "\n",
    "# n_samples*n_classes = 1*3\n",
    "good_probs = torch.tensor([[0.8, 0.1, 0.1]])\n",
    "bad_probs = torch.tensor([[0.1, 0.5, 0.4]])\n",
    "\n",
    "print(f\"loss for good_probs: {loss(good_probs, y).item():.3f}\")\n",
    "print(f\"loss for bad_probs:  {loss(bad_probs, y).item():.3f}\")"
   ]
  },
  {
   "cell_type": "code",
   "execution_count": 40,
   "id": "9bb651b1",
   "metadata": {},
   "outputs": [
    {
     "name": "stdout",
     "output_type": "stream",
     "text": [
      "loss for good_probs: 1.043\n",
      "loss for bad_probs:  2.626\n"
     ]
    }
   ],
   "source": [
    "loss = nn.CrossEntropyLoss()\n",
    "\n",
    "y = torch.tensor([0, 2, 1])\n",
    "\n",
    "# n_samples*n_classes = 3*3\n",
    "good_probs = torch.tensor([[8., 1., 1.],\n",
    "                           [0.05, 2.9, 0.05],\n",
    "                           [0.2, 2.6, 0.2]])\n",
    "\n",
    "bad_probs = torch.tensor([[0.1, 3.6, 1.3],\n",
    "                          [1.8, 1.1, 0.1],\n",
    "                          [1.5, 0.2, 1.3]])\n",
    "\n",
    "print(f\"loss for good_probs: {loss(good_probs, y).item():.3f}\")\n",
    "print(f\"loss for bad_probs:  {loss(bad_probs, y).item():.3f}\")"
   ]
  },
  {
   "cell_type": "code",
   "execution_count": null,
   "id": "fb4a0bfd",
   "metadata": {},
   "outputs": [],
   "source": []
  }
 ],
 "metadata": {
  "kernelspec": {
   "display_name": "Python 3",
   "language": "python",
   "name": "python3"
  },
  "language_info": {
   "codemirror_mode": {
    "name": "ipython",
    "version": 3
   },
   "file_extension": ".py",
   "mimetype": "text/x-python",
   "name": "python",
   "nbconvert_exporter": "python",
   "pygments_lexer": "ipython3",
   "version": "3.8.5"
  }
 },
 "nbformat": 4,
 "nbformat_minor": 5
}
