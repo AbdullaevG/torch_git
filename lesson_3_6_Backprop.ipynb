{
 "cells": [
  {
   "cell_type": "code",
   "execution_count": 1,
   "id": "60a94ef1",
   "metadata": {},
   "outputs": [],
   "source": [
    "import torch\n",
    "import numpy as np\n",
    "import matplotlib.pyplot as plt"
   ]
  },
  {
   "cell_type": "code",
   "execution_count": 2,
   "id": "2889a8e8",
   "metadata": {},
   "outputs": [],
   "source": [
    "x = torch.tensor(1.0)\n",
    "y = torch.tensor(2.0)"
   ]
  },
  {
   "cell_type": "code",
   "execution_count": 3,
   "id": "fa7fb967",
   "metadata": {},
   "outputs": [
    {
     "name": "stdout",
     "output_type": "stream",
     "text": [
      "tensor(1., grad_fn=<PowBackward0>)\n"
     ]
    }
   ],
   "source": [
    "w = torch.tensor(1.0, requires_grad = True)\n",
    "y_hat = w * x\n",
    "loss = (y - y_hat)**2\n",
    "print(loss)"
   ]
  },
  {
   "cell_type": "code",
   "execution_count": 4,
   "id": "28836d66",
   "metadata": {},
   "outputs": [
    {
     "name": "stdout",
     "output_type": "stream",
     "text": [
      "tensor(-2.)\n"
     ]
    }
   ],
   "source": [
    "# backward step\n",
    "loss.backward()\n",
    "print(w.grad)"
   ]
  },
  {
   "cell_type": "code",
   "execution_count": 5,
   "id": "efef1672",
   "metadata": {},
   "outputs": [],
   "source": [
    "X = np.array([1., 2., 3., 4.])\n",
    "\n",
    "# we take the true value for weight equals 2, so:\n",
    "Y = np.array([2., 4., 6., 8.])"
   ]
  },
  {
   "cell_type": "code",
   "execution_count": 6,
   "id": "c27aec1f",
   "metadata": {},
   "outputs": [
    {
     "name": "stdout",
     "output_type": "stream",
     "text": [
      "prediction before training: f(5) = 0.000\n"
     ]
    }
   ],
   "source": [
    "# start value for w\n",
    "w = 0.0\n",
    "\n",
    "# model prediction\n",
    "def forward(x):\n",
    "    return w * x\n",
    "\n",
    "# loss\n",
    "def loss(y, y_hat):\n",
    "    return ((y - y_hat)**2).mean()\n",
    "\n",
    "\n",
    "# gradient\n",
    "# MSE = 1/N * (w*x - y)**2\n",
    "# dJ/dw = 1/N * 2*(w*x - y) * x\n",
    "\n",
    "def gradient(x, y, y_hat):\n",
    "    return np.dot(2*x, y_hat-y).mean()\n",
    "\n",
    "\n",
    "print(f'prediction before training: f(5) = {forward(5):.3f}')"
   ]
  },
  {
   "cell_type": "code",
   "execution_count": 7,
   "id": "72bab369",
   "metadata": {},
   "outputs": [
    {
     "name": "stdout",
     "output_type": "stream",
     "text": [
      "epoch: 1; weight = 1.200, loss = 30.00000000\n",
      "epoch: 3; weight = 1.872, loss = 0.76800000\n",
      "epoch: 5; weight = 1.980, loss = 0.01966080\n",
      "epoch: 7; weight = 1.997, loss = 0.00050332\n",
      "epoch: 9; weight = 1.999, loss = 0.00001288\n",
      "epoch: 11; weight = 2.000, loss = 0.00000033\n",
      "epoch: 13; weight = 2.000, loss = 0.00000001\n",
      "epoch: 15; weight = 2.000, loss = 0.00000000\n",
      "epoch: 17; weight = 2.000, loss = 0.00000000\n",
      "epoch: 19; weight = 2.000, loss = 0.00000000\n",
      "\n",
      "prediction after training: f(5) = 10.000\n"
     ]
    }
   ],
   "source": [
    "# Trainig\n",
    "learning_rate = 0.01\n",
    "n_iters = 20\n",
    "\n",
    "for epoch in range(n_iters):\n",
    "    # prediction\n",
    "    y_pred = forward(X)\n",
    "    \n",
    "    #loss\n",
    "    l = loss(Y, y_pred)\n",
    "    \n",
    "    # gradient  \n",
    "    dw = gradient(X, Y, y_pred)\n",
    "    \n",
    "    # update\n",
    "    w -= learning_rate * dw \n",
    "    \n",
    "    if epoch % 2 == 0:\n",
    "        print(f'epoch: {epoch + 1}; weight = {w:.3f}, loss = {l:.8f}')\n",
    "print()        \n",
    "print(f'prediction after training: f(5) = {forward(5):.3f}')"
   ]
  },
  {
   "cell_type": "markdown",
   "id": "e91706d6",
   "metadata": {},
   "source": [
    "### With torch"
   ]
  },
  {
   "cell_type": "code",
   "execution_count": 8,
   "id": "ba981aac",
   "metadata": {},
   "outputs": [],
   "source": [
    "X = torch.tensor([1., 2., 3., 4.])\n",
    "\n",
    "# we take the true value for weight equals 2, so:\n",
    "Y = torch.tensor([2., 4., 6., 8.])"
   ]
  },
  {
   "cell_type": "code",
   "execution_count": 9,
   "id": "50f82491",
   "metadata": {},
   "outputs": [
    {
     "name": "stdout",
     "output_type": "stream",
     "text": [
      "epoch: 0; weight = 0.300, loss = 30.00000000\n",
      "epoch: 10; weight = 1.665, loss = 1.16278565\n",
      "epoch: 20; weight = 1.934, loss = 0.04506890\n",
      "epoch: 30; weight = 1.987, loss = 0.00174685\n",
      "epoch: 40; weight = 1.997, loss = 0.00006770\n",
      "epoch: 50; weight = 1.999, loss = 0.00000262\n",
      "epoch: 60; weight = 2.000, loss = 0.00000010\n",
      "epoch: 70; weight = 2.000, loss = 0.00000000\n",
      "epoch: 80; weight = 2.000, loss = 0.00000000\n",
      "epoch: 90; weight = 2.000, loss = 0.00000000\n",
      "\n",
      "prediction after training: f(5) = 10.000\n"
     ]
    }
   ],
   "source": [
    "# start value for w\n",
    "w = torch.tensor(0.0, requires_grad = True)\n",
    "\n",
    "# Trainig\n",
    "learning_rate = 0.01\n",
    "n_iters = 100\n",
    "\n",
    "for epoch in range(n_iters):\n",
    "    # prediction\n",
    "    y_pred = forward(X)\n",
    "    \n",
    "    #loss\n",
    "    l = loss(Y, y_pred)\n",
    "    \n",
    "    # gradient  \n",
    "    l.backward()\n",
    "    \n",
    "    # update\n",
    "    with torch.no_grad():\n",
    "        w -= learning_rate * w.grad\n",
    "        \n",
    "    # zero grad\n",
    "    w.grad.zero_()\n",
    "    \n",
    "    if epoch % 10 == 0:\n",
    "        print(f'epoch: {epoch}; weight = {w:.3f}, loss = {l:.8f}')\n",
    "print()        \n",
    "print(f'prediction after training: f(5) = {forward(5):.3f}')"
   ]
  },
  {
   "cell_type": "markdown",
   "id": "f352d9b1",
   "metadata": {},
   "source": [
    "### Training Pipeline: Model, Loss, and Optimizer"
   ]
  },
  {
   "cell_type": "code",
   "execution_count": 12,
   "id": "94a00dad",
   "metadata": {},
   "outputs": [],
   "source": [
    "X = torch.tensor([1., 2., 3., 4.])\n",
    "Y = torch.tensor([2., 4., 6., 8.])\n",
    "w = torch.tensor(0.0, requires_grad = True)"
   ]
  },
  {
   "cell_type": "code",
   "execution_count": 13,
   "id": "d2f5351c",
   "metadata": {},
   "outputs": [
    {
     "name": "stdout",
     "output_type": "stream",
     "text": [
      "prediction before training: f(5) = 0.000\n"
     ]
    }
   ],
   "source": [
    "def forward(x):\n",
    "    return w * x\n",
    "print(f'prediction before training: f(5) = {forward(5):.3f}')"
   ]
  },
  {
   "cell_type": "code",
   "execution_count": 17,
   "id": "1250afb2",
   "metadata": {},
   "outputs": [],
   "source": [
    "learning_rate = 0.01\n",
    "loss = torch.nn.MSELoss()\n",
    "optimizer = torch.optim.SGD([w], lr = learning_rate)"
   ]
  },
  {
   "cell_type": "code",
   "execution_count": 18,
   "id": "6957b4c1",
   "metadata": {},
   "outputs": [
    {
     "name": "stdout",
     "output_type": "stream",
     "text": [
      "epoch: 0; weight = 0.300, loss = 30.00000000\n",
      "epoch: 10; weight = 1.665, loss = 1.16278565\n",
      "epoch: 20; weight = 1.934, loss = 0.04506890\n",
      "epoch: 30; weight = 1.987, loss = 0.00174685\n",
      "epoch: 40; weight = 1.997, loss = 0.00006770\n",
      "epoch: 50; weight = 1.999, loss = 0.00000262\n",
      "epoch: 60; weight = 2.000, loss = 0.00000010\n",
      "epoch: 70; weight = 2.000, loss = 0.00000000\n",
      "epoch: 80; weight = 2.000, loss = 0.00000000\n",
      "epoch: 90; weight = 2.000, loss = 0.00000000\n",
      "\n",
      "prediction after training: f(5) = 10.000\n"
     ]
    }
   ],
   "source": [
    "n_iters = 100\n",
    "\n",
    "for epoch in range(n_iters):\n",
    "    # prediction\n",
    "    y_pred = forward(X)\n",
    "    \n",
    "    #loss\n",
    "    l = loss(Y, y_pred)\n",
    "    \n",
    "    # gradient  \n",
    "    l.backward()\n",
    "    \n",
    "    # update\n",
    "    optimizer.step()\n",
    "        \n",
    "    # zero grad\n",
    "    optimizer.zero_grad()\n",
    "    \n",
    "    if epoch % 10 == 0:\n",
    "        print(f'epoch: {epoch}; weight = {w:.3f}, loss = {l:.8f}')\n",
    "print()        \n",
    "print(f'prediction after training: f(5) = {forward(5):.3f}')"
   ]
  },
  {
   "cell_type": "code",
   "execution_count": 32,
   "id": "c0c533b4",
   "metadata": {},
   "outputs": [
    {
     "name": "stdout",
     "output_type": "stream",
     "text": [
      "n_samples: 4\n",
      "n_features: 1\n"
     ]
    }
   ],
   "source": [
    "X = torch.tensor([[1.], \n",
    "                  [2.],\n",
    "                  [3.], \n",
    "                  [4.]])\n",
    "Y = torch.tensor([[2.], \n",
    "                  [4.],\n",
    "                  [6.], \n",
    "                  [8.]])\n",
    "n_samples, n_features = X.shape\n",
    "print(f\"n_samples: {n_samples}\")\n",
    "print(f\"n_features: {n_features}\")"
   ]
  },
  {
   "cell_type": "code",
   "execution_count": 33,
   "id": "fde5bbd3",
   "metadata": {},
   "outputs": [
    {
     "name": "stdout",
     "output_type": "stream",
     "text": [
      "prediction before training: f(5) = -1.351\n"
     ]
    }
   ],
   "source": [
    "input_size = n_features\n",
    "output_size = n_features\n",
    "model = torch.nn.Linear(input_size, output_size)\n",
    "\n",
    "X_test = torch.tensor([[5.]])\n",
    "print(f'prediction before training: f(5) = {model(X_test).item():.3f}')"
   ]
  },
  {
   "cell_type": "code",
   "execution_count": 34,
   "id": "b337f84c",
   "metadata": {},
   "outputs": [],
   "source": [
    "learning_rate = 0.1\n",
    "loss = torch.nn.MSELoss()\n",
    "optimizer = torch.optim.SGD(model.parameters(), lr = learning_rate)"
   ]
  },
  {
   "cell_type": "code",
   "execution_count": 35,
   "id": "46470d57",
   "metadata": {},
   "outputs": [
    {
     "name": "stdout",
     "output_type": "stream",
     "text": [
      "epoch: 0; weight = 3.028, loss = 37.46440887\n",
      "epoch: 20; weight = 1.830, loss = 0.04450297\n",
      "epoch: 40; weight = 1.907, loss = 0.01319198\n",
      "epoch: 60; weight = 1.950, loss = 0.00391085\n",
      "epoch: 80; weight = 1.973, loss = 0.00115939\n",
      "epoch: 100; weight = 1.985, loss = 0.00034371\n",
      "epoch: 120; weight = 1.992, loss = 0.00010190\n",
      "epoch: 140; weight = 1.996, loss = 0.00003021\n",
      "epoch: 160; weight = 1.998, loss = 0.00000896\n",
      "epoch: 180; weight = 1.999, loss = 0.00000265\n",
      "\n",
      "prediction after num_epochs = 200: f(5) = 9.998\n"
     ]
    }
   ],
   "source": [
    "n_iters = 200\n",
    "\n",
    "for epoch in range(n_iters):\n",
    "    # prediction\n",
    "    y_pred = model(X)\n",
    "    \n",
    "    #loss\n",
    "    l = loss(Y, y_pred)\n",
    "    \n",
    "    # gradient  \n",
    "    l.backward()\n",
    "    \n",
    "    # update\n",
    "    optimizer.step()\n",
    "        \n",
    "    # zero grad\n",
    "    optimizer.zero_grad()\n",
    "    \n",
    "    if epoch % 20 == 0:\n",
    "        [w, b] = model.parameters()\n",
    "        print(f'epoch: {epoch}; weight = {w[0][0].item():.3f}, loss = {l:.8f}')\n",
    "print()        \n",
    "print(f'prediction after num_epochs = {n_iters}: f(5) = {model(X_test).item():.3f}')"
   ]
  },
  {
   "cell_type": "code",
   "execution_count": 36,
   "id": "16be911e",
   "metadata": {},
   "outputs": [],
   "source": [
    "# the same with the new class:\n",
    "\n",
    "class Linear_Regression(torch.nn.Module):\n",
    "    \n",
    "    def __init__(self, input_size, output_size):\n",
    "        super(Linear_Regression, self).__init__()\n",
    "        self.lin = torch.nn.Linear(input_size, output_size)\n",
    "        \n",
    "    def forward(self, x):\n",
    "        return self.lin(x)"
   ]
  },
  {
   "cell_type": "code",
   "execution_count": 37,
   "id": "f9c2baf0",
   "metadata": {},
   "outputs": [
    {
     "name": "stdout",
     "output_type": "stream",
     "text": [
      "n_samples: 4\n",
      "n_features: 1\n"
     ]
    }
   ],
   "source": [
    "X = torch.tensor([[1.], \n",
    "                  [2.],\n",
    "                  [3.], \n",
    "                  [4.]])\n",
    "Y = torch.tensor([[2.], \n",
    "                  [4.],\n",
    "                  [6.], \n",
    "                  [8.]])\n",
    "n_samples, n_features = X.shape\n",
    "print(f\"n_samples: {n_samples}\")\n",
    "print(f\"n_features: {n_features}\")"
   ]
  },
  {
   "cell_type": "code",
   "execution_count": 38,
   "id": "2bcd5520",
   "metadata": {},
   "outputs": [
    {
     "name": "stdout",
     "output_type": "stream",
     "text": [
      "epoch: 0; weight = 3.288, loss = 40.66133118\n",
      "epoch: 20; weight = 1.940, loss = 0.00563611\n",
      "epoch: 40; weight = 1.967, loss = 0.00166953\n",
      "epoch: 60; weight = 1.982, loss = 0.00049494\n",
      "epoch: 80; weight = 1.990, loss = 0.00014673\n",
      "epoch: 100; weight = 1.995, loss = 0.00004350\n",
      "epoch: 120; weight = 1.997, loss = 0.00001290\n",
      "epoch: 140; weight = 1.998, loss = 0.00000382\n",
      "epoch: 160; weight = 1.999, loss = 0.00000113\n",
      "epoch: 180; weight = 2.000, loss = 0.00000034\n",
      "\n",
      "prediction after num_epochs = 200: f(5) = 9.999\n"
     ]
    }
   ],
   "source": [
    "model = Linear_Regression(n_features, n_features)\n",
    "\n",
    "learning_rate = 0.1\n",
    "loss = torch.nn.MSELoss()\n",
    "optimizer = torch.optim.SGD(model.parameters(), lr = learning_rate)\n",
    "\n",
    "n_iters = 200\n",
    "\n",
    "for epoch in range(n_iters):\n",
    "    # prediction\n",
    "    y_pred = model(X)\n",
    "    \n",
    "    #loss\n",
    "    l = loss(Y, y_pred)\n",
    "    \n",
    "    # gradient  \n",
    "    l.backward()\n",
    "    \n",
    "    # update\n",
    "    optimizer.step()\n",
    "        \n",
    "    # zero grad\n",
    "    optimizer.zero_grad()\n",
    "    \n",
    "    if epoch % 20 == 0:\n",
    "        [w, b] = model.parameters()\n",
    "        print(f'epoch: {epoch}; weight = {w[0][0].item():.3f}, loss = {l:.8f}')\n",
    "print()        \n",
    "print(f'prediction after num_epochs = {n_iters}: f(5) = {model(X_test).item():.3f}')"
   ]
  },
  {
   "cell_type": "code",
   "execution_count": null,
   "id": "98310254",
   "metadata": {},
   "outputs": [],
   "source": []
  }
 ],
 "metadata": {
  "kernelspec": {
   "display_name": "Python 3",
   "language": "python",
   "name": "python3"
  },
  "language_info": {
   "codemirror_mode": {
    "name": "ipython",
    "version": 3
   },
   "file_extension": ".py",
   "mimetype": "text/x-python",
   "name": "python",
   "nbconvert_exporter": "python",
   "pygments_lexer": "ipython3",
   "version": "3.8.5"
  }
 },
 "nbformat": 4,
 "nbformat_minor": 5
}
