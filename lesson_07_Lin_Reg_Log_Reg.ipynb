{
 "cells": [
  {
   "cell_type": "code",
   "execution_count": 1,
   "id": "b3d2216f",
   "metadata": {},
   "outputs": [],
   "source": [
    "import numpy as np\n",
    "import matplotlib.pyplot as plt\n",
    "from sklearn import datasets\n",
    "import torch\n",
    "import torch.nn as nn"
   ]
  },
  {
   "cell_type": "code",
   "execution_count": 2,
   "id": "2217cc56",
   "metadata": {
    "scrolled": true
   },
   "outputs": [
    {
     "data": {
      "image/png": "[encoded data removed]",
      "text/plain": [
       "<Figure size 432x288 with 1 Axes>"
      ]
     },
     "metadata": {
      "needs_background": "light"
     },
     "output_type": "display_data"
    }
   ],
   "source": [
    "# prepare the data\n",
    "\n",
    "x_np, y_np = datasets.make_regression(n_samples = 100, n_features = 1,\n",
    "                                      noise = 15)\n",
    "plt.scatter(x_np, y_np);"
   ]
  },
  {
   "cell_type": "code",
   "execution_count": 3,
   "id": "3153b29d",
   "metadata": {},
   "outputs": [
    {
     "name": "stdout",
     "output_type": "stream",
     "text": [
      "torch.Size([100, 1]) torch.Size([100])\n"
     ]
    }
   ],
   "source": [
    "X = torch.from_numpy(x_np.astype(np.float32))\n",
    "y = torch.from_numpy(y_np.astype(np.float32))\n",
    "print(X.shape, y.shape)"
   ]
  },
  {
   "cell_type": "code",
   "execution_count": 4,
   "id": "271764b1",
   "metadata": {},
   "outputs": [
    {
     "name": "stdout",
     "output_type": "stream",
     "text": [
      "torch.Size([100, 1])\n"
     ]
    }
   ],
   "source": [
    "y = y.view(-1, 1)\n",
    "print(y.shape)"
   ]
  },
  {
   "cell_type": "code",
   "execution_count": 8,
   "id": "3416d4c3",
   "metadata": {},
   "outputs": [
    {
     "name": "stdout",
     "output_type": "stream",
     "text": [
      "n_samples: 100\n",
      "n_features: 1\n"
     ]
    }
   ],
   "source": [
    "n_samples, n_features = X.shape\n",
    "\n",
    "input_size, output_size = n_features, 1\n",
    "\n",
    "print(f\"n_samples: {n_samples}\")\n",
    "print(f\"n_features: {n_features}\")"
   ]
  },
  {
   "cell_type": "code",
   "execution_count": 9,
   "id": "d0c7be5f",
   "metadata": {},
   "outputs": [],
   "source": [
    "# model\n",
    "class Linear_Regression(torch.nn.Module):\n",
    "    \n",
    "    def __init__(self, input_size, output_size):\n",
    "        super(Linear_Regression, self).__init__()\n",
    "        self.lin = torch.nn.Linear(input_size, output_size)\n",
    "        \n",
    "    def forward(self, x):\n",
    "        return self.lin(x)\n",
    "    \n",
    "\n",
    "model = Linear_Regression(input_size, output_size)"
   ]
  },
  {
   "cell_type": "code",
   "execution_count": 10,
   "id": "625ccd66",
   "metadata": {},
   "outputs": [],
   "source": [
    "# loss and optimizer\n",
    "learning_rate = 0.5\n",
    "criterion = nn.MSELoss()\n",
    "optimizer = torch.optim.SGD(model.parameters(), learning_rate)"
   ]
  },
  {
   "cell_type": "code",
   "execution_count": 11,
   "id": "c410d6d7",
   "metadata": {},
   "outputs": [
    {
     "name": "stdout",
     "output_type": "stream",
     "text": [
      "#epoch=1  /////__//// loss=5351.374\n",
      "#epoch=11  /////__//// loss=241.494\n",
      "#epoch=21  /////__//// loss=241.494\n",
      "#epoch=31  /////__//// loss=241.494\n",
      "#epoch=41  /////__//// loss=241.494\n",
      "#epoch=51  /////__//// loss=241.494\n",
      "#epoch=61  /////__//// loss=241.494\n",
      "#epoch=71  /////__//// loss=241.494\n",
      "#epoch=81  /////__//// loss=241.494\n",
      "#epoch=91  /////__//// loss=241.494\n"
     ]
    }
   ],
   "source": [
    "n_iter = 100\n",
    "\n",
    "for epoch in range(n_iter):\n",
    "    # model prediction\n",
    "    y_pred = model(X)\n",
    "    \n",
    "    # loss calculation\n",
    "    loss = criterion(y_pred, y)\n",
    "    \n",
    "    # calculate the gradients\n",
    "    loss.backward()\n",
    "    \n",
    "    # update the weights\n",
    "    optimizer.step()\n",
    "    \n",
    "    # zero gradients\n",
    "    optimizer.zero_grad()\n",
    "    \n",
    "    if epoch % 10 == 0:\n",
    "        print(f\"#epoch={epoch + 1}  /////__//// loss={loss.item():.3f}\")"
   ]
  },
  {
   "cell_type": "code",
   "execution_count": 12,
   "id": "84adf959",
   "metadata": {},
   "outputs": [
    {
     "data": {
      "image/png": "[encoded data removed]",
      "text/plain": [
       "<Figure size 432x288 with 1 Axes>"
      ]
     },
     "metadata": {
      "needs_background": "light"
     },
     "output_type": "display_data"
    }
   ],
   "source": [
    "y_pred = model(X).detach().numpy()\n",
    "\n",
    "plt.plot(x_np, y_pred, 'r', label = \"prediction\")\n",
    "plt.scatter(x_np, y_np, label = \"True value\")\n",
    "plt.legend()\n",
    "plt.show()"
   ]
  },
  {
   "cell_type": "markdown",
   "id": "c8de4e0e",
   "metadata": {},
   "source": [
    "## Logistic Regression"
   ]
  },
  {
   "cell_type": "code",
   "execution_count": 13,
   "id": "d41feff8",
   "metadata": {},
   "outputs": [],
   "source": [
    "from sklearn.model_selection import train_test_split\n",
    "from sklearn.preprocessing import StandardScaler\n"
   ]
  },
  {
   "cell_type": "code",
   "execution_count": 14,
   "id": "1304f146",
   "metadata": {},
   "outputs": [
    {
     "name": "stdout",
     "output_type": "stream",
     "text": [
      "n_samples = 569\n",
      "n_features = 30\n"
     ]
    }
   ],
   "source": [
    "# 0) prepare the data\n",
    "bc = datasets.load_breast_cancer()\n",
    "X, y = bc.data, bc.target\n",
    "n_samples, n_features = X.shape\n",
    "print(f\"n_samples = {n_samples}\")\n",
    "print(f\"n_features = {n_features}\")"
   ]
  },
  {
   "cell_type": "code",
   "execution_count": 15,
   "id": "28945258",
   "metadata": {},
   "outputs": [
    {
     "name": "stdout",
     "output_type": "stream",
     "text": [
      "455 114\n"
     ]
    }
   ],
   "source": [
    "X_train, X_test, y_train, y_test = train_test_split(X, y, test_size=0.2,\n",
    "                                                    random_state = 1234)\n",
    "print(X_train.shape[0], X_test.shape[0])"
   ]
  },
  {
   "cell_type": "code",
   "execution_count": 16,
   "id": "790ade01",
   "metadata": {},
   "outputs": [],
   "source": [
    "# scale the dataset\n",
    "sc = StandardScaler()\n",
    "X_train = sc.fit_transform(X_train)\n",
    "X_test = sc.transform(X_test)"
   ]
  },
  {
   "cell_type": "code",
   "execution_count": 18,
   "id": "502addf4",
   "metadata": {},
   "outputs": [],
   "source": [
    "X_train = torch.from_numpy(X_train.astype(np.float32))\n",
    "X_test = torch.from_numpy(X_test.astype(np.float32))\n",
    "y_train = torch.from_numpy(y_train.astype(np.float32))\n",
    "y_test = torch.from_numpy(y_test.astype(np.float32))\n",
    "\n",
    "y_train = y_train.view(-1, 1)\n",
    "y_test = y_test.view(-1, 1)"
   ]
  },
  {
   "cell_type": "code",
   "execution_count": 59,
   "id": "be117c1d",
   "metadata": {},
   "outputs": [],
   "source": [
    "# 1) model\n",
    "\n",
    "class Logistic_Regression(nn.Module):\n",
    "    \n",
    "    def __init__(self, n_input):\n",
    "        super(Logistic_Regression, self).__init__()\n",
    "        self.lin = nn.Linear(n_input, 1)\n",
    "        \n",
    "    def forward(self, x):\n",
    "        y_pred = torch.sigmoid(self.lin(x))\n",
    "        return y_pred\n",
    "    \n",
    "model = Logistic_Regression(n_features)   "
   ]
  },
  {
   "cell_type": "code",
   "execution_count": 60,
   "id": "753ddba5",
   "metadata": {},
   "outputs": [],
   "source": [
    "# 2) loss and optimizer\n",
    "learning_rate = 0.1\n",
    "criterion = nn.BCELoss()\n",
    "optimizer = torch.optim.SGD(model.parameters(), learning_rate)"
   ]
  },
  {
   "cell_type": "code",
   "execution_count": 61,
   "id": "27d2557b",
   "metadata": {},
   "outputs": [
    {
     "name": "stdout",
     "output_type": "stream",
     "text": [
      "    #epoch = 100, loss = 0.086\n",
      "    #epoch = 200, loss = 0.067\n",
      "    #epoch = 300, loss = 0.059\n",
      "    #epoch = 400, loss = 0.054\n",
      "    #epoch = 500, loss = 0.050\n",
      "    #epoch = 600, loss = 0.047\n",
      "    #epoch = 700, loss = 0.045\n",
      "    #epoch = 800, loss = 0.043\n",
      "    #epoch = 900, loss = 0.042\n",
      "    #epoch = 1000, loss = 0.040\n"
     ]
    }
   ],
   "source": [
    "#) training_loop\n",
    "\n",
    "num_epochs = 1_000\n",
    "\n",
    "for epoch in range(num_epochs):\n",
    "    \n",
    "    #forward pass\n",
    "    prediction = model(X_train)\n",
    "    \n",
    "    # loss calculation\n",
    "    loss = criterion(prediction, y_train)\n",
    "    \n",
    "    # loss gradients\n",
    "    loss.backward()\n",
    "    \n",
    "    # update the weights\n",
    "    optimizer.step()\n",
    "    \n",
    "    # zero gradients\n",
    "    optimizer.zero_grad()\n",
    "    \n",
    "    if (epoch + 1) % 100 == 0:\n",
    "        print(f\"    #epoch = {epoch+1}, loss = {loss.item():.3f}\")"
   ]
  },
  {
   "cell_type": "code",
   "execution_count": 62,
   "id": "99299969",
   "metadata": {},
   "outputs": [
    {
     "name": "stdout",
     "output_type": "stream",
     "text": [
      "accuracy = 0.9561\n"
     ]
    }
   ],
   "source": [
    "with torch.no_grad():\n",
    "    y_predicted = model(X_test)\n",
    "    y_predicted_class = y_predicted.round()\n",
    "    acc = y_predicted_class.eq(y_test).sum()/float(y_test.shape[0])\n",
    "    print(f\"accuracy = {acc:.4f}\")"
   ]
  },
  {
   "cell_type": "code",
   "execution_count": null,
   "id": "df7245d1",
   "metadata": {},
   "outputs": [],
   "source": []
  }
 ],
 "metadata": {
  "kernelspec": {
   "display_name": "Python 3",
   "language": "python",
   "name": "python3"
  },
  "language_info": {
   "codemirror_mode": {
    "name": "ipython",
    "version": 3
   },
   "file_extension": ".py",
   "mimetype": "text/x-python",
   "name": "python",
   "nbconvert_exporter": "python",
   "pygments_lexer": "ipython3",
   "version": "3.8.5"
  }
 },
 "nbformat": 4,
 "nbformat_minor": 5
}
